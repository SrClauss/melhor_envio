{
 "cells": [
  {
   "cell_type": "code",
   "execution_count": 10,
   "id": "88a9068d",
   "metadata": {},
   "outputs": [
    {
     "ename": "AttributeError",
     "evalue": "'Version' object has no attribute 'version'",
     "output_type": "error",
     "traceback": [
      "\u001b[31m---------------------------------------------------------------------------\u001b[39m",
      "\u001b[31mAttributeError\u001b[39m                            Traceback (most recent call last)",
      "\u001b[36mCell\u001b[39m\u001b[36m \u001b[39m\u001b[32mIn[10]\u001b[39m\u001b[32m, line 2\u001b[39m\n\u001b[32m      1\u001b[39m \u001b[38;5;28;01mimport\u001b[39;00m\u001b[38;5;250m \u001b[39m\u001b[34;01mundetected_chromedriver\u001b[39;00m\u001b[38;5;250m \u001b[39m\u001b[38;5;28;01mas\u001b[39;00m\u001b[38;5;250m \u001b[39m\u001b[34;01muc\u001b[39;00m\n\u001b[32m----> \u001b[39m\u001b[32m2\u001b[39m driver = \u001b[43muc\u001b[49m\u001b[43m.\u001b[49m\u001b[43mChrome\u001b[49m\u001b[43m(\u001b[49m\u001b[43m)\u001b[49m\n\u001b[32m      3\u001b[39m driver.get(\u001b[33m'\u001b[39m\u001b[33mhttps://www.melhorrastreio.com.br/app/melhorenvio/ME251ZXMZF8BR\u001b[39m\u001b[33m'\u001b[39m)\n",
      "\u001b[36mFile \u001b[39m\u001b[32m~/src/projeto-lucas2/venv/lib/python3.12/site-packages/undetected_chromedriver/__init__.py:258\u001b[39m, in \u001b[36mChrome.__init__\u001b[39m\u001b[34m(self, options, user_data_dir, driver_executable_path, browser_executable_path, port, enable_cdp_events, desired_capabilities, advanced_elements, keep_alive, log_level, headless, version_main, patcher_force_close, suppress_welcome, use_subprocess, debug, no_sandbox, user_multi_procs, **kw)\u001b[39m\n\u001b[32m    251\u001b[39m \u001b[38;5;28mself\u001b[39m.patcher = Patcher(\n\u001b[32m    252\u001b[39m     executable_path=driver_executable_path,\n\u001b[32m    253\u001b[39m     force=patcher_force_close,\n\u001b[32m    254\u001b[39m     version_main=version_main,\n\u001b[32m    255\u001b[39m     user_multi_procs=user_multi_procs,\n\u001b[32m    256\u001b[39m )\n\u001b[32m    257\u001b[39m \u001b[38;5;66;03m# self.patcher.auto(user_multiprocess = user_multi_num_procs)\u001b[39;00m\n\u001b[32m--> \u001b[39m\u001b[32m258\u001b[39m \u001b[38;5;28;43mself\u001b[39;49m\u001b[43m.\u001b[49m\u001b[43mpatcher\u001b[49m\u001b[43m.\u001b[49m\u001b[43mauto\u001b[49m\u001b[43m(\u001b[49m\u001b[43m)\u001b[49m\n\u001b[32m    260\u001b[39m \u001b[38;5;66;03m# self.patcher = patcher\u001b[39;00m\n\u001b[32m    261\u001b[39m \u001b[38;5;28;01mif\u001b[39;00m \u001b[38;5;129;01mnot\u001b[39;00m options:\n",
      "\u001b[36mFile \u001b[39m\u001b[32m~/src/projeto-lucas2/venv/lib/python3.12/site-packages/undetected_chromedriver/patcher.py:179\u001b[39m, in \u001b[36mPatcher.auto\u001b[39m\u001b[34m(self, executable_path, force, version_main, _)\u001b[39m\n\u001b[32m    176\u001b[39m     \u001b[38;5;28;01mpass\u001b[39;00m\n\u001b[32m    178\u001b[39m release = \u001b[38;5;28mself\u001b[39m.fetch_release_number()\n\u001b[32m--> \u001b[39m\u001b[32m179\u001b[39m \u001b[38;5;28mself\u001b[39m.version_main = \u001b[43mrelease\u001b[49m\u001b[43m.\u001b[49m\u001b[43mversion\u001b[49m[\u001b[32m0\u001b[39m]\n\u001b[32m    180\u001b[39m \u001b[38;5;28mself\u001b[39m.version_full = release\n\u001b[32m    181\u001b[39m \u001b[38;5;28mself\u001b[39m.unzip_package(\u001b[38;5;28mself\u001b[39m.fetch_package())\n",
      "\u001b[31mAttributeError\u001b[39m: 'Version' object has no attribute 'version'"
     ]
    }
   ],
   "source": [
    "import undetected_chromedriver as uc\n",
    "driver = uc.Chrome()\n",
    "driver.get('https://www.melhorrastreio.com.br/app/melhorenvio/ME251ZXMZF8BR')\n"
   ]
  }
 ],
 "metadata": {
  "kernelspec": {
   "display_name": "Python 3",
   "language": "python",
   "name": "python3"
  },
  "language_info": {
   "codemirror_mode": {
    "name": "ipython",
    "version": 3
   },
   "file_extension": ".py",
   "mimetype": "text/x-python",
   "name": "python",
   "nbconvert_exporter": "python",
   "pygments_lexer": "ipython3",
   "version": "3.12.3"
  }
 },
 "nbformat": 4,
 "nbformat_minor": 5
}
